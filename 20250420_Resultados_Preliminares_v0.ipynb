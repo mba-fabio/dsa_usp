{
  "nbformat": 4,
  "nbformat_minor": 0,
  "metadata": {
    "colab": {
      "provenance": [],
      "authorship_tag": "ABX9TyPnkm6/RQRl9z/sqrEEWfk4",
      "include_colab_link": true
    },
    "kernelspec": {
      "name": "python3",
      "display_name": "Python 3"
    },
    "language_info": {
      "name": "python"
    }
  },
  "cells": [
    {
      "cell_type": "markdown",
      "metadata": {
        "id": "view-in-github",
        "colab_type": "text"
      },
      "source": [
        "<a href=\"https://colab.research.google.com/github/mba-fabio/dsa_usp/blob/main/20250420_Resultados_Preliminares_v0.ipynb\" target=\"_parent\"><img src=\"https://colab.research.google.com/assets/colab-badge.svg\" alt=\"Open In Colab\"/></a>"
      ]
    },
    {
      "cell_type": "markdown",
      "source": [
        "Instalações e importações de pacotes"
      ],
      "metadata": {
        "id": "gyL0a8NSAoGe"
      }
    },
    {
      "cell_type": "code",
      "source": [
        "import pandas as pd\n"
      ],
      "metadata": {
        "id": "vTqORDiqAsK7"
      },
      "execution_count": 1,
      "outputs": []
    },
    {
      "cell_type": "code",
      "execution_count": 9,
      "metadata": {
        "id": "KeYkB5Pf2Fak",
        "outputId": "1f2bb44f-9ee1-4493-b9a4-fd3fa0f5af6c",
        "colab": {
          "base_uri": "https://localhost:8080/"
        }
      },
      "outputs": [
        {
          "output_type": "stream",
          "name": "stdout",
          "text": [
            "<class 'pandas.core.frame.DataFrame'>\n",
            "RangeIndex: 1900 entries, 0 to 1899\n",
            "Data columns (total 6 columns):\n",
            " #   Column        Non-Null Count  Dtype  \n",
            "---  ------        --------------  -----  \n",
            " 0   Loja          1900 non-null   object \n",
            " 1   Tipo de Joia  1900 non-null   object \n",
            " 2   Marca         1900 non-null   object \n",
            " 3   Metal         1900 non-null   object \n",
            " 4   Pedra         1900 non-null   object \n",
            " 5   Preço         1900 non-null   float64\n",
            "dtypes: float64(1), object(5)\n",
            "memory usage: 89.2+ KB\n",
            "         Loja Tipo de Joia                Marca         Metal          Pedra  \\\n",
            "0  Shopping A     Pingente  Marca Internacional   ouro branco      sem pedra   \n",
            "1  Shopping A        Colar            Sem Marca  ouro amarelo      esmeralda   \n",
            "2  Shopping A     Pulseira            Sem Marca   ouro branco           rubi   \n",
            "3  Shopping A     Pingente       Marca Nacional  ouro amarelo  outras pedras   \n",
            "4  Shopping A       Brinco  Marca Internacional     ouro rosé      sem pedra   \n",
            "\n",
            "    Preço  \n",
            "0  1200.0  \n",
            "1  5250.0  \n",
            "2  4500.0  \n",
            "3  1408.0  \n",
            "4  3900.0  \n"
          ]
        }
      ],
      "source": [
        "# Carrega os dados de estoque para o Data Frame do Pandas\n",
        "estoque_joias = pd.read_csv('https://github.com/mba-fabio/dsa_usp/raw/main/20250330_estoque_joias.csv')\n",
        "estoque_joias.info()\n",
        "print(estoque_joias.head())\n",
        "\n",
        "\n",
        "\n",
        "#print(df.head())\n"
      ]
    }
  ]
}