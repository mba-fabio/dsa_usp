{
  "nbformat": 4,
  "nbformat_minor": 0,
  "metadata": {
    "colab": {
      "provenance": [],
      "authorship_tag": "ABX9TyNnBv2LVm/p5+MfV5kOJ/Jd",
      "include_colab_link": true
    },
    "kernelspec": {
      "name": "python3",
      "display_name": "Python 3"
    },
    "language_info": {
      "name": "python"
    }
  },
  "cells": [
    {
      "cell_type": "markdown",
      "metadata": {
        "id": "view-in-github",
        "colab_type": "text"
      },
      "source": [
        "<a href=\"https://colab.research.google.com/github/mba-fabio/dsa_usp/blob/main/20250420_Resultados_Preliminares_v0.ipynb\" target=\"_parent\"><img src=\"https://colab.research.google.com/assets/colab-badge.svg\" alt=\"Open In Colab\"/></a>"
      ]
    },
    {
      "cell_type": "markdown",
      "source": [
        "#Otimização da Distribuição de Joias e Relógios de Luxo Usados: Modelos Preditivos no mercado de luxo “Second Hand”"
      ],
      "metadata": {
        "id": "gjFTtyiqF_dE"
      }
    },
    {
      "cell_type": "markdown",
      "source": [
        "##Instalações e importações de pacotes"
      ],
      "metadata": {
        "id": "gyL0a8NSAoGe"
      }
    },
    {
      "cell_type": "code",
      "source": [
        "import pandas as pd\n"
      ],
      "metadata": {
        "id": "vTqORDiqAsK7"
      },
      "execution_count": 2,
      "outputs": []
    },
    {
      "cell_type": "markdown",
      "source": [
        "## Importação de dados do Github"
      ],
      "metadata": {
        "id": "uQkzqfQMFp7N"
      }
    },
    {
      "cell_type": "markdown",
      "source": [
        "###Estoque Atual de cada loja"
      ],
      "metadata": {
        "id": "N7zeFzP7GXP3"
      }
    },
    {
      "cell_type": "code",
      "execution_count": 3,
      "metadata": {
        "id": "KeYkB5Pf2Fak",
        "outputId": "bcf554fc-2342-40d9-de08-4c46905465bd",
        "colab": {
          "base_uri": "https://localhost:8080/"
        }
      },
      "outputs": [
        {
          "output_type": "stream",
          "name": "stdout",
          "text": [
            "<class 'pandas.core.frame.DataFrame'>\n",
            "RangeIndex: 1900 entries, 0 to 1899\n",
            "Data columns (total 6 columns):\n",
            " #   Column        Non-Null Count  Dtype  \n",
            "---  ------        --------------  -----  \n",
            " 0   Loja          1900 non-null   object \n",
            " 1   Tipo de Joia  1900 non-null   object \n",
            " 2   Marca         1900 non-null   object \n",
            " 3   Metal         1900 non-null   object \n",
            " 4   Pedra         1900 non-null   object \n",
            " 5   Preço         1900 non-null   float64\n",
            "dtypes: float64(1), object(5)\n",
            "memory usage: 89.2+ KB\n",
            "         Loja Tipo de Joia                Marca         Metal          Pedra  \\\n",
            "0  Shopping A     Pingente  Marca Internacional   ouro branco      sem pedra   \n",
            "1  Shopping A        Colar            Sem Marca  ouro amarelo      esmeralda   \n",
            "2  Shopping A     Pulseira            Sem Marca   ouro branco           rubi   \n",
            "3  Shopping A     Pingente       Marca Nacional  ouro amarelo  outras pedras   \n",
            "4  Shopping A       Brinco  Marca Internacional     ouro rosé      sem pedra   \n",
            "\n",
            "    Preço  \n",
            "0  1200.0  \n",
            "1  5250.0  \n",
            "2  4500.0  \n",
            "3  1408.0  \n",
            "4  3900.0  \n"
          ]
        }
      ],
      "source": [
        "# Carrega os dados de estoque para o Data Frame do Pandas\n",
        "estoque_joias = pd.read_csv('https://github.com/mba-fabio/dsa_usp/raw/main/20250330_estoque_joias.csv')\n",
        "estoque_joias.info()\n",
        "print(estoque_joias.head())"
      ]
    },
    {
      "cell_type": "markdown",
      "source": [
        "###Histórico de vendas dos últimos 24 meses"
      ],
      "metadata": {
        "id": "lxRisVQqGdQX"
      }
    },
    {
      "cell_type": "code",
      "source": [
        "# Carrega os dados de venda para o Data Frame do Pandas\n",
        "vendas24m = pd.read_csv('https://github.com/mba-fabio/dsa_usp/raw/main/20250331_joias_simuladas_historico_24meses_sazonal.csv')\n",
        "vendas24m.info()\n",
        "print(vendas24m.head())"
      ],
      "metadata": {
        "id": "VZe_8mLvGk5Y",
        "outputId": "71815760-07b1-4fbb-efe0-846ed77ce9ea",
        "colab": {
          "base_uri": "https://localhost:8080/"
        }
      },
      "execution_count": 4,
      "outputs": [
        {
          "output_type": "stream",
          "name": "stdout",
          "text": [
            "<class 'pandas.core.frame.DataFrame'>\n",
            "RangeIndex: 9560 entries, 0 to 9559\n",
            "Data columns (total 8 columns):\n",
            " #   Column            Non-Null Count  Dtype  \n",
            "---  ------            --------------  -----  \n",
            " 0   Data              9560 non-null   object \n",
            " 1   Tipo_Joia         9560 non-null   object \n",
            " 2   Tipo_Ouro         9560 non-null   object \n",
            " 3   Tipo_Pedra        9560 non-null   object \n",
            " 4   Marca             9560 non-null   object \n",
            " 5   Localizacao_Loja  9560 non-null   object \n",
            " 6   Perfil_Cliente    9560 non-null   object \n",
            " 7   Preco             9560 non-null   float64\n",
            "dtypes: float64(1), object(7)\n",
            "memory usage: 597.6+ KB\n",
            "      Data Tipo_Joia     Tipo_Ouro Tipo_Pedra                Marca  \\\n",
            "0  2022-01     Colar  Ouro Amarelo  Sem Pedra  Marca Internacional   \n",
            "1  2022-01      Anel     Ouro Rosé  Sem Pedra  Marca Internacional   \n",
            "2  2022-01    Brinco     Ouro Rosé  Sem Pedra  Marca Internacional   \n",
            "3  2022-01  Corrente   Ouro Branco  Sem Pedra       Marca Nacional   \n",
            "4  2022-01    Brinco  Ouro Amarelo       Rubi       Marca Nacional   \n",
            "\n",
            "  Localizacao_Loja Perfil_Cliente   Preco  \n",
            "0       Shopping A    Baby Boomer  6300.0  \n",
            "1       Shopping A    Baby Boomer  3000.0  \n",
            "2       Shopping A      Geração Z  3900.0  \n",
            "3       Shopping A      Geração Z  2880.0  \n",
            "4       Shopping A    Millennials  5200.0  \n"
          ]
        }
      ]
    },
    {
      "cell_type": "markdown",
      "source": [
        "###Lote para distribuição entre lojas"
      ],
      "metadata": {
        "id": "zbDgd3blIA2M"
      }
    },
    {
      "cell_type": "code",
      "source": [
        "# Carrega os dados do lote atual para o Data Frame do Pandas\n",
        "lote = pd.read_csv('https://github.com/mba-fabio/dsa_usp/raw/main/20250405_Lote_Distribuicao_v3_desbalanceado.csv')\n",
        "lote.info()\n",
        "print(lote.head())"
      ],
      "metadata": {
        "id": "2NA5goZeID67",
        "outputId": "899b6d99-af56-43c4-a8bf-67061fe1cddd",
        "colab": {
          "base_uri": "https://localhost:8080/"
        }
      },
      "execution_count": 5,
      "outputs": [
        {
          "output_type": "stream",
          "name": "stdout",
          "text": [
            "<class 'pandas.core.frame.DataFrame'>\n",
            "RangeIndex: 110 entries, 0 to 109\n",
            "Data columns (total 1 columns):\n",
            " #   Column                                      Non-Null Count  Dtype \n",
            "---  ------                                      --------------  ----- \n",
            " 0   Tipo_Joia;Tipo_Ouro;Tipo_Pedra;Marca;Preco  110 non-null    object\n",
            "dtypes: object(1)\n",
            "memory usage: 1012.0+ bytes\n",
            "          Tipo_Joia;Tipo_Ouro;Tipo_Pedra;Marca;Preco\n",
            "0  Brinco;Ouro Amarelo;Sem Pedra;Marca Nacional;2...\n",
            "1  Brinco;Ouro Branco;Sem Pedra;Marca Internacion...\n",
            "2     Brinco;Ouro Amarelo;Rubi;Marca Nacional;5200.0\n",
            "3  Brinco;Ouro Branco;Outras Pedras;Marca Interna...\n",
            "4  Brinco;Ouro Amarelo;Diamante;Marca Nacional;83...\n"
          ]
        }
      ]
    },
    {
      "cell_type": "markdown",
      "source": [
        "###Capacidade de estoque máxima de cada loja"
      ],
      "metadata": {
        "id": "16iQlmbcIghX"
      }
    },
    {
      "cell_type": "code",
      "source": [
        "# Carrega os dados de capacidade máxima de estoque de cada loja para o Data Frame do Pandas\n",
        "capacidade_lojas = pd.read_csv('https://github.com/mba-fabio/dsa_usp/raw/main/20250419_Capacidade_Estoque_Lojas.csv')\n",
        "capacidade_lojas.info()\n",
        "print(capacidade_lojas.head())"
      ],
      "metadata": {
        "id": "EfOp3RaPIj5A",
        "outputId": "a4a38a34-ad5f-4840-8268-801ca977de1b",
        "colab": {
          "base_uri": "https://localhost:8080/"
        }
      },
      "execution_count": 7,
      "outputs": [
        {
          "output_type": "stream",
          "name": "stdout",
          "text": [
            "<class 'pandas.core.frame.DataFrame'>\n",
            "RangeIndex: 4 entries, 0 to 3\n",
            "Data columns (total 1 columns):\n",
            " #   Column               Non-Null Count  Dtype \n",
            "---  ------               --------------  ----- \n",
            " 0   LOJA;ESTOQUE MAXIMO  4 non-null      object\n",
            "dtypes: object(1)\n",
            "memory usage: 164.0+ bytes\n",
            "  LOJA;ESTOQUE MAXIMO\n",
            "0      SHOPPING A;740\n",
            "1      SHOPPING B;570\n",
            "2      SHOPPING C;490\n",
            "3      SHOPPING D;410\n"
          ]
        }
      ]
    }
  ]
}